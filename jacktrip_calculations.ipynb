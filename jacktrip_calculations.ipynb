{
 "cells": [
  {
   "cell_type": "code",
   "execution_count": 26,
   "id": "7fce76ce-ad29-40af-abef-88aded0506a5",
   "metadata": {},
   "outputs": [
    {
     "name": "stdout",
     "output_type": "stream",
     "text": [
      "UDP packet size for different channel counts (48kHz, 16bit, 128samples):\n"
     ]
    },
    {
     "data": {
      "image/png": "[encoded data removed]",
      "text/plain": [
       "<Figure size 144x144 with 1 Axes>"
      ]
     },
     "metadata": {
      "needs_background": "light"
     },
     "output_type": "display_data"
    }
   ],
   "source": [
    "import matplotlib.pyplot as plt\n",
    "import numpy as np\n",
    "\n",
    "plt.style.use('_mpl-gallery')\n",
    "\n",
    "udp_header_size = 8\n",
    "jacktrip_header_size = 12\n",
    "\n",
    "bit_depths = [16, 24, 32]\n",
    "sample_rates = [44100, 48000, 96000, 192000]\n",
    "buffer_sizes = [16, 32, 64, 128, 256, 512, 1024]\n",
    "\n",
    "def udp_packet_size(buffer_size: int, number_of_channels: int, bit_depth: int) -> int:\n",
    "    return udp_header_size + jacktrip_header_size + (number_of_channels * buffer_size * bit_depth / 8)\n",
    "\n",
    "arr_udp_packet_size = np.vectorize(udp_packet_size)\n",
    "\n",
    "print(\"UDP packet size for different channel counts (48kHz, 16bit, 128samples):\")\n",
    "x = range(2, 21)\n",
    "y = arr_udp_packet_size(buffer_size = 128, number_of_channels = x, bit_depth = 16)\n",
    "\n",
    "# plot\n",
    "fig, ax = plt.subplots()\n",
    "ax.set(xlabel='Number of channels', ylabel='Packet size in byte')\n",
    "ax.plot(x, y, 'b--')\n",
    "plt.axhline(y=1500)\n",
    "\n",
    "plt.show()\n"
   ]
  },
  {
   "cell_type": "code",
   "execution_count": 30,
   "id": "a50de708-bfe7-4275-a987-c5b90ee7ae69",
   "metadata": {},
   "outputs": [
    {
     "data": {
      "image/png": "[encoded data removed]",
      "text/plain": [
       "<Figure size 144x144 with 1 Axes>"
      ]
     },
     "metadata": {
      "needs_background": "light"
     },
     "output_type": "display_data"
    }
   ],
   "source": [
    "def packets_per_second(sample_rate: int, buffer_size: int) -> int:\n",
    "    return sample_rate / buffer_size\n",
    "\n",
    "arr_packets_per_second = np.vectorize(packets_per_second)\n",
    "\n",
    "nr_packets = arr_packets_per_second(48000, buffer_sizes)\n",
    "fig, ax = plt.subplots()\n",
    "ax.set(xlabel='Buffer size', ylabel='packets per second')\n",
    "ax.plot(buffer_sizes, nr_packets, 'b--')\n",
    "\n",
    "plt.show()"
   ]
  },
  {
   "cell_type": "code",
   "execution_count": 46,
   "id": "b4f3c49a-af17-4a10-9175-0f6cd2f3fae9",
   "metadata": {},
   "outputs": [
    {
     "data": {
      "image/png": "[encoded data removed]",
      "text/plain": [
       "<Figure size 144x144 with 1 Axes>"
      ]
     },
     "metadata": {
      "needs_background": "light"
     },
     "output_type": "display_data"
    }
   ],
   "source": [
    "switch_buffer_size = 3000000 # 3Mbit in Bit\n",
    "# Processing speed must be considered\n",
    "\n",
    "def datarate(nr_packets: int, packet_size: int) -> int:\n",
    "    return nr_packets * packet_size\n",
    "\n",
    "arr_datarate = np.vectorize(datarate)\n",
    "\n",
    "datarate = arr_datarate(nr_packets, arr_udp_packet_size(buffer_sizes, 2, 16))\n",
    "fig, ax = plt.subplots()\n",
    "ax.set(xlabel='Buffer size', ylabel='datarate')\n",
    "ax.plot(buffer_sizes, datarate, 'b--')\n",
    "plt.axhline(y=switch_buffer_size/8)\n",
    "\n",
    "plt.show()"
   ]
  },
  {
   "cell_type": "markdown",
   "id": "4f1c0628-daef-4aa6-b9fd-42f6aac092f6",
   "metadata": {},
   "source": [
    "## Propagation Delay\n",
    "\n",
    "D / S"
   ]
  },
  {
   "cell_type": "code",
   "execution_count": null,
   "id": "f7bf73ac-03a0-42ea-b948-b5238b38b62c",
   "metadata": {},
   "outputs": [],
   "source": [
    "distance = 10\n",
    "speed = 10\n",
    "\n",
    "prop_delay = distance / speed\n"
   ]
  },
  {
   "cell_type": "markdown",
   "id": "60a3201f-15b7-4b8f-a77e-8fab54919caf",
   "metadata": {},
   "source": [
    "## Transmission Delay\n",
    "\n",
    "L / B\n",
    "\n",
    "* L - packet size\n",
    "* B - link capacity"
   ]
  },
  {
   "cell_type": "code",
   "execution_count": null,
   "id": "8bd298ba-1543-4085-9e58-9a76d2999f29",
   "metadata": {},
   "outputs": [],
   "source": [
    "packet_size = 1500\n",
    "link_capacity = 1000000000\n",
    "\n",
    "def transmission_delay(packet_size: int, link_capacity: int) -> int:\n",
    "    return packet_size / link_capacity\n",
    "\n",
    "arr_transmission_delay = np.vectorize(transmission_delay)"
   ]
  },
  {
   "cell_type": "markdown",
   "id": "2c60bd1c-2f81-4ff2-839f-df0ca18089e6",
   "metadata": {},
   "source": [
    "## Queueing Delay\n",
    "\n",
    "Time a packet waits in the queue to be processed.\n",
    "\n",
    "Wikipedia: \"The average delay any given packet is likely to experience is given by the formula 1/(μ-λ) where μ is the number of packets per second the facility can sustain and λ is the average rate at which packets are arriving to be serviced.\"\n",
    "\n",
    "## Processing Delay\n",
    "\n",
    "Time a switch needs to process a packet."
   ]
  }
 ],
 "metadata": {
  "kernelspec": {
   "display_name": "Python 3 (ipykernel)",
   "language": "python",
   "name": "python3"
  },
  "language_info": {
   "codemirror_mode": {
    "name": "ipython",
    "version": 3
   },
   "file_extension": ".py",
   "mimetype": "text/x-python",
   "name": "python",
   "nbconvert_exporter": "python",
   "pygments_lexer": "ipython3",
   "version": "3.10.4"
  }
 },
 "nbformat": 4,
 "nbformat_minor": 5
}
